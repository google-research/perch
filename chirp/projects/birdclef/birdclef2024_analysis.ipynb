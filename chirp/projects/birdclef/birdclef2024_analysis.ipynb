{
  "cells": [
    {
      "cell_type": "code",
      "execution_count": null,
      "metadata": {
        "id": "XXpheQueOg9X"
      },
      "outputs": [],
      "source": [
        "import csv\n",
        "from etils import epath\n",
        "import numpy as np\n",
        "from sklearn import metrics\n",
        "import tqdm\n",
        "\n",
        "# Fill this in with path to folder containing solution and submission csv's.\n",
        "base_path = ''\n",
        "solution_csv = 'birdclef2024_solution.csv'\n",
        "subs = [\n",
        "    'submission-1.csv',\n",
        "    'submission-2.csv',\n",
        "]\n",
        "\n",
        "def load_solution(solution_path: str, bool_sol: bool):\n",
        "  with open(epath.Path(base_path) / solution_path, 'r') as f:\n",
        "    dr = csv.DictReader(f)\n",
        "    sp_list = dr.fieldnames[:]\n",
        "    sp_list.remove('row_id')\n",
        "    if 'Usage' in sp_list:\n",
        "      sp_list.remove('Usage')\n",
        "    sp_list = sorted(sp_list)\n",
        "    row_ids = []\n",
        "    scores = []\n",
        "    for r in dr:\n",
        "      row_ids.append(r['row_id'])\n",
        "      if bool_sol:\n",
        "        scores.append(np.array([r[k]=='True' for k in sp_list]))\n",
        "      else:\n",
        "        scores.append(np.array([float(r[k]) for k in sp_list]))\n",
        "  perm = np.argsort(row_ids)\n",
        "  row_ids = np.array(row_ids)[perm]\n",
        "  scores = np.stack(scores, axis=0)\n",
        "  scores = scores[perm]\n",
        "  return row_ids, sp_list, scores\n",
        "\n",
        "sol_rows, sp_list, sol_array = load_solution(solution_csv, True)\n",
        "active_cols = sol_array.sum(axis=0) \u003e 0\n",
        "\n",
        "all_rocs = []\n",
        "for s in tqdm.tqdm(subs):\n",
        "  sub_rows, _, sub_scores = load_solution(s, False)\n",
        "  if not np.all(sol_rows == sub_rows):\n",
        "    print('submission %s has strange rows.' % s)\n",
        "  sub_rocs = metrics.roc_auc_score(\n",
        "      sol_array[:, active_cols], sub_scores[:, active_cols], average=None)\n",
        "  all_rocs.append(sub_rocs)\n"
      ]
    },
    {
      "cell_type": "code",
      "execution_count": null,
      "metadata": {
        "id": "VXvuPNbQQdWh"
      },
      "outputs": [],
      "source": [
        "from matplotlib import pyplot as plt\n",
        "sp_counts = sol_array[:, active_cols].sum(axis=0)\n",
        "\n",
        "plt.figure(figsize=(10, 10))\n",
        "for i, rocs in enumerate(all_rocs):\n",
        "  if i not in (0, 1, 2, 3, 4): continue\n",
        "  if i == 0:\n",
        "    order = np.argsort(rocs)\n",
        "  rocs = rocs[order]\n",
        "  lbl = subs[i][11:].split('.')[0]\n",
        "  # plt.scatter(sp_counts, rocs, alpha=0.25, label=lbl)\n",
        "  plt.scatter(tuple(range(rocs.shape[0])), rocs, alpha=0.25, label=lbl)\n",
        "plt.ylabel('ROC-AUC')\n",
        "# plt.xscale('log')\n",
        "# plt.xlabel('Positive Example Count')\n",
        "plt.legend()"
      ]
    },
    {
      "cell_type": "code",
      "execution_count": null,
      "metadata": {
        "id": "R1ViWFjTUBDd"
      },
      "outputs": [],
      "source": [
        "corrs = np.zeros(shape=[len(all_rocs), len(all_rocs)])\n",
        "for i in range(len(all_rocs)):\n",
        "  for j in range(len(all_rocs)):\n",
        "    corrs[i, j] = np.corrcoef(all_rocs[i], all_rocs[j])[0, 1]\n",
        "print(corrs)"
      ]
    },
    {
      "cell_type": "code",
      "execution_count": null,
      "metadata": {
        "id": "1VcjIjPqY5sa"
      },
      "outputs": [],
      "source": [
        "active_sp = [sp for sp, t in zip(sp_list, active_cols) if t]\n",
        "for i in range(5):\n",
        "  for loc in np.argwhere(all_rocs[i] \u003c 0.4)[:, 0]:\n",
        "    s = all_rocs[i][loc]\n",
        "    print(f'{subs[i]:24s},  {active_sp[loc]:8s},  {s:.3f}')\n",
        "  print()"
      ]
    }
  ],
  "metadata": {
    "colab": {
      "last_runtime": {
        "build_target": "",
        "kind": "local"
      },
      "private_outputs": true,
      "provenance": [
        {
          "file_id": "18_JGxd2xMUCUSp3w-4YHYTAnq6EFsBFy",
          "timestamp": 1741881975316
        }
      ]
    },
    "kernelspec": {
      "display_name": "Python 3",
      "name": "python3"
    },
    "language_info": {
      "name": "python"
    }
  },
  "nbformat": 4,
  "nbformat_minor": 0
}
