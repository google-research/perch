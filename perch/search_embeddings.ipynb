{
 "cells": [
  {
   "cell_type": "code",
   "execution_count": 0,
   "metadata": {
    "id": "TbsWuOMtug8-"
   },
   "outputs": [],
   "source": [
    "#@title Imports. { vertical-output: true }\n",
    "import json\n",
    "from ml_collections import config_dict\n",
    "import numpy as np\n",
    "from etils import epath\n",
    "import matplotlib.pyplot as plt\n",
    "\n",
    "from chirp.inference import colab_utils\n",
    "colab_utils.initialize(use_tf_gpu=True, disable_warnings=True)\n",
    "\n",
    "from chirp import audio_utils\n",
    "from chirp import path_utils\n",
    "from chirp.inference import models\n",
    "from chirp.projects.bootstrap import bootstrap\n",
    "from chirp.projects.bootstrap import search\n",
    "from chirp.projects.bootstrap import display\n"
   ]
  },
  {
   "cell_type": "code",
   "execution_count": 0,
   "metadata": {
    "id": "ZAqbraNjuxYr"
   },
   "outputs": [],
   "source": [
    "#@title Configuration and Setup. { vertical-output: true }\n",
    "\n",
    "# Path to embeddings of unlabeled data.\n",
    "embeddings_path = ''  #@param\n",
    "\n",
    "# Path for storing annotated examples.\n",
    "labeled_data_path = ''  #@param\n",
    "\n",
    "separation_model_key = 'separator_model_tf'  #@param\n",
    "separation_model_path = ''  #@param\n"
   ]
  },
  {
   "cell_type": "code",
   "execution_count": 0,
   "metadata": {
    "id": "uyvwPYCY3sb5"
   },
   "outputs": [],
   "source": [
    "#@title Load Project State and Config. { vertical-output: true }\n",
    "\n",
    "# Get relevant info from the embedding configuration.\n",
    "embeddings_path = epath.Path(embeddings_path)\n",
    "with (embeddings_path / 'config.json').open() as f:\n",
    "  embedding_config = config_dict.ConfigDict(json.loads(f.read()))\n",
    "embeddings_glob = embeddings_path / 'embeddings-*'\n",
    "\n",
    "config = bootstrap.BootstrapConfig.load_from_embedding_config(\n",
    "    embeddings_path=embeddings_path,\n",
    "    annotated_path=labeled_data_path)\n",
    "\n",
    "project_state = bootstrap.BootstrapState(config)\n",
    "\n",
    "separator = None"
   ]
  },
  {
   "cell_type": "code",
   "execution_count": 0,
   "metadata": {
    "id": "fdVVCpwu8bOt"
   },
   "outputs": [],
   "source": [
    "#@title Load Separation Model (Optional) { vertical-output: true }\n",
    "separation_model_key = 'separator_model_tf'  #@param\n",
    "separation_model_path = ''  #@param\n",
    "\n",
    "if config.model_key == 'separate_embed_model' and not separation_model_key.strip():\n",
    "  separation_model_key = 'separator_model_tf'\n",
    "  separation_model_path = config.model_config.separator_model_tf_config.model_path\n",
    "\n",
    "\n",
    "if separation_model_path:\n",
    "  separation_config = config_dict.ConfigDict({\n",
    "      'model_path': separation_model_path,\n",
    "      'frame_size': 32000,\n",
    "      'sample_rate': 32000,\n",
    "  })\n",
    "  separator = models.model_class_map()[\n",
    "      separation_model_key].from_config(separation_config)\n",
    "  print(\"Loaded separator model at {}\".format(separation_model_path))\n",
    "else:\n",
    "  print('No separation model loaded.')\n",
    "  separator = None"
   ]
  },
  {
   "cell_type": "markdown",
   "metadata": {
    "id": "NM_i9Hur2mo8"
   },
   "source": [
    "## Query Creation"
   ]
  },
  {
   "cell_type": "code",
   "execution_count": 0,
   "metadata": {
    "id": "C7hW22722pCW"
   },
   "outputs": [],
   "source": [
    "#@title Load query audio. { vertical-output: true }\n",
    "\n",
    "# Point to an audio file, Xeno-Canto id (like 'xc12345') or audio file URL.\n",
    "audio_path = 'xc12345'  #@param\n",
    "# Muck around with manual selection of the query start time...\n",
    "start_s = 0  #@param\n",
    "\n",
    "window_s = config.model_config['window_size_s']\n",
    "sample_rate = config.model_config['sample_rate']\n",
    "audio = audio_utils.load_audio(audio_path, sample_rate)\n",
    "\n",
    "# Display the full file.\n",
    "display.plot_audio_melspec(audio, sample_rate)\n",
    "\n",
    "# Display the selected window.\n",
    "print('-' * 80)\n",
    "print('Selected audio window:')\n",
    "st = int(start_s * sample_rate)\n",
    "end = int(st + window_s * sample_rate)\n",
    "if end > audio.shape[0]:\n",
    "  end = audio.shape[0]\n",
    "  st = max([0, int(end - window_s * sample_rate)])\n",
    "audio_window = audio[st:end]\n",
    "display.plot_audio_melspec(audio_window, sample_rate)\n",
    "\n",
    "query_audio = audio_window\n",
    "sep_outputs = None"
   ]
  },
  {
   "cell_type": "code",
   "execution_count": 0,
   "metadata": {
    "id": "aPVa1xFRvy1X"
   },
   "outputs": [],
   "source": [
    "#@title Separate the target audio window { vertical-output: true }\n",
    "\n",
    "if separator is not None:\n",
    "  sep_outputs = separator.embed(audio_window)\n",
    "\n",
    "  for c in range(sep_outputs.separated_audio.shape[0]):\n",
    "    print(f'Channel {c}')\n",
    "    display.plot_audio_melspec(sep_outputs.separated_audio[c, :], sample_rate)\n",
    "    print('-' * 80)\n",
    "else:\n",
    "  sep_outputs = None\n",
    "  print('No separation model loaded.')"
   ]
  },
  {
   "cell_type": "code",
   "execution_count": 0,
   "metadata": {
    "id": "Hr42XJFnw_w6"
   },
   "outputs": [],
   "source": [
    "#@title Select the query channel. { vertical-output: true }\n",
    "\n",
    "query_label = 'some_audio'  #@param\n",
    "query_channel = -1  #@param\n",
    "\n",
    "if query_channel < 0 or sep_outputs is None:\n",
    "  query_audio = audio_window\n",
    "else:\n",
    "  query_audio = sep_outputs.separated_audio[query_channel].copy()\n",
    "\n",
    "display.plot_audio_melspec(query_audio, sample_rate)\n",
    "\n",
    "outputs = project_state.embedding_model.embed(query_audio)\n",
    "query = outputs.pooled_embeddings('first', 'first')\n"
   ]
  },
  {
   "cell_type": "code",
   "execution_count": 0,
   "metadata": {
    "id": "KII-L3uoyKT8"
   },
   "outputs": [],
   "source": [
    "#@title Run Top-K Search. { vertical-output: true }\n",
    "\n",
    "# Number of search results to capture.\n",
    "top_k = 25  #@param\n",
    "\n",
    "# Target distance for search results.\n",
    "# This lets us try to hone in on a 'classifier boundary' instead of just\n",
    "# looking at the closest matches.\n",
    "# Set to 'None' for raw 'best results' search.\n",
    "target_score = None  #@param\n",
    "\n",
    "metric = 'euclidean'  #@param['euclidean', 'mip', 'cosine']\n",
    "\n",
    "random_sample = False  #@param\n",
    "\n",
    "ds = project_state.create_embeddings_dataset()\n",
    "results, all_scores = search.search_embeddings_parallel(\n",
    "    ds, query,\n",
    "    hop_size_s=config.embedding_hop_size_s,\n",
    "    top_k=top_k, target_score=target_score, score_fn=metric,\n",
    "    random_sample=random_sample)\n",
    "\n",
    "# Plot histogram of distances\n",
    "ys, _, _ = plt.hist(all_scores, bins=128, density=True)\n",
    "hit_scores = [r.score for r in results.search_results]\n",
    "plt.scatter(hit_scores, np.zeros_like(hit_scores), marker='|',\n",
    "            color='r', alpha=0.5)\n",
    "\n",
    "plt.xlabel(metric)\n",
    "plt.ylabel('density')\n",
    "if target_score is not None:\n",
    "  plt.plot([target_score, target_score], [0.0, np.max(ys)], 'r:')\n",
    "  # Compute the proportion of scores < target_score\n",
    "  hit_percentage = (all_scores < target_score).mean()\n",
    "  print(f'score < target_score percentage : {hit_percentage:5.3f}')\n",
    "min_score = np.min(all_scores)\n",
    "plt.plot([min_score, min_score], [0.0, np.max(ys)], 'g:')\n",
    "\n",
    "plt.show()\n"
   ]
  },
  {
   "cell_type": "code",
   "execution_count": 0,
   "metadata": {
    "id": "x8bsc-wLooAw"
   },
   "outputs": [],
   "source": [
    "#@title Display results. { vertical-output: true }\n",
    "\n",
    "display.display_search_results(\n",
    "    results, sample_rate, project_state.source_map,\n",
    "    checkbox_labels=[query_label, 'unknown'],\n",
    "    max_workers=5)"
   ]
  },
  {
   "cell_type": "code",
   "execution_count": 0,
   "metadata": {
    "id": "ubzz56yqosXZ"
   },
   "outputs": [],
   "source": [
    "#@title Write annotated examples. { vertical-output: true }\n",
    "\n",
    "results.write_labeled_data(config.annotated_path,\n",
    "                           project_state.embedding_model.sample_rate)"
   ]
  },
  {
   "cell_type": "code",
   "execution_count": 0,
   "metadata": {
    "id": "C8cIzgMxSMWT"
   },
   "outputs": [],
   "source": []
  }
 ],
 "metadata": {
  "colab": {
   "private_outputs": true,
   "toc_visible": true
  },
  "kernelspec": {
   "display_name": "Python 3",
   "name": "python3"
  },
  "language_info": {
   "name": "python"
  }
 },
 "nbformat": 4,
 "nbformat_minor": 0
}
